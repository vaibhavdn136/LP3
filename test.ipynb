{
 "cells": [
  {
   "cell_type": "code",
   "execution_count": 7,
   "id": "6c58e203",
   "metadata": {},
   "outputs": [
    {
     "name": "stdout",
     "output_type": "stream",
     "text": [
      "// SPDX-License-Identifier: MIT\n",
      "pragma solidity ^0.7.0;\n",
      "\n",
      "\n",
      "contract Student_management{\n",
      "    // Define a Student structure\n",
      "    struct Student {\n",
      "        string name;\n",
      "        uint age;\n",
      "        string course;\n",
      "    }\n",
      "\n",
      "    // Array to store Student structs\n",
      "    Student[] public students;\n",
      "\n",
      "    // Fallback function to handle unknown function calls\n",
      "    fallback() external {}\n",
      "\n",
      "    // Receive function to accept Ether\n",
      "    receive() external payable {}\n",
      "\n",
      "    // Function to add a new student\n",
      "    function addStudent(string memory _name, uint _age, string memory _course) public {\n",
      "        Student memory newStudent = Student(_name, _age, _course);\n",
      "        students.push(newStudent);\n",
      "    }\n",
      "\n",
      "    // Function to get the total number of students\n",
      "    function getTotalStudents() public view returns (uint) {\n",
      "        return students.length;\n",
      "    }\n",
      "}\n",
      "\n"
     ]
    }
   ],
   "source": [
    "import requests\n",
    "print(requests.get(\"https://raw.githubusercontent.com/vaibhavdn136/lp3/main/BT4.sol\").text)"
   ]
  },
  {
   "cell_type": "code",
   "execution_count": null,
   "id": "32e385d3",
   "metadata": {},
   "outputs": [],
   "source": []
  }
 ],
 "metadata": {
  "kernelspec": {
   "display_name": "Python 3 (ipykernel)",
   "language": "python",
   "name": "python3"
  },
  "language_info": {
   "codemirror_mode": {
    "name": "ipython",
    "version": 3
   },
   "file_extension": ".py",
   "mimetype": "text/x-python",
   "name": "python",
   "nbconvert_exporter": "python",
   "pygments_lexer": "ipython3",
   "version": "3.9.13"
  }
 },
 "nbformat": 4,
 "nbformat_minor": 5
}
