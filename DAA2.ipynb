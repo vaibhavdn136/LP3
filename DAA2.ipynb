{
 "cells": [
  {
   "cell_type": "code",
   "execution_count": 2,
   "id": "02e6a0c9",
   "metadata": {},
   "outputs": [
    {
     "name": "stdout",
     "output_type": "stream",
     "text": [
      "f -> 0\n",
      "c -> 100\n",
      "d -> 101\n",
      "a -> 1100\n",
      "b -> 1101\n",
      "e -> 111\n"
     ]
    }
   ],
   "source": [
    "import heapq\n",
    "\n",
    "# Creating Huffman tree node\n",
    "class node:\n",
    "    def __init__(self,freq,symbol,left=None,right=None):\n",
    "        self.freq=freq # frequency of symbol\n",
    "        self.symbol=symbol # symbol name (character)\n",
    "        self.left=left # node left of current node\n",
    "        self.right=right # node right of current node\n",
    "        self.huff= '' # # tree direction (0/1)\n",
    "\n",
    "    def __lt__(self,nxt): # Check if curr frequency less than next nodes freq\n",
    "        return self.freq<nxt.freq\n",
    "\n",
    "def printnodes(node,val=''):\n",
    "    newval=val+str(node.huff)\n",
    "    # if node is not an edge node then traverse inside it\n",
    "    if node.left: \n",
    "        printnodes(node.left,newval)\n",
    "    if node.right: \n",
    "        printnodes(node.right,newval)\n",
    "\n",
    "    # if node is edge node then display its huffman code\n",
    "    if not node.left and not node.right:\n",
    "        print(\"{} -> {}\".format(node.symbol,newval))\n",
    "\n",
    "if __name__==\"__main__\":\n",
    "    chars = ['a', 'b', 'c', 'd', 'e', 'f']\n",
    "    freq = [ 5, 9, 12, 13, 16, 45]\n",
    "    nodes=[]    \n",
    "\n",
    "    for i in range(len(chars)): # converting characters and frequencies into huffman tree nodes\n",
    "        heapq.heappush(nodes, node(freq[i],chars[i]))\n",
    "\n",
    "    while len(nodes)>1:\n",
    "        left=heapq.heappop(nodes)\n",
    "        right=heapq.heappop(nodes)\n",
    "\n",
    "        left.huff = 0\n",
    "        right.huff = 1\n",
    "        # Combining the 2 smallest nodes to create new node as their parent\n",
    "        newnode = node(left.freq + right.freq , left.symbol + right.symbol , left , right)\n",
    "        # node(freq,symbol,left,right)\n",
    "        heapq.heappush(nodes, newnode)\n",
    "\n",
    "    printnodes(nodes[0]) # Passing root of Huffman Tree"
   ]
  },
  {
   "cell_type": "code",
   "execution_count": null,
   "id": "36d66ec7",
   "metadata": {},
   "outputs": [],
   "source": []
  }
 ],
 "metadata": {
  "kernelspec": {
   "display_name": "Python 3 (ipykernel)",
   "language": "python",
   "name": "python3"
  },
  "language_info": {
   "codemirror_mode": {
    "name": "ipython",
    "version": 3
   },
   "file_extension": ".py",
   "mimetype": "text/x-python",
   "name": "python",
   "nbconvert_exporter": "python",
   "pygments_lexer": "ipython3",
   "version": "3.9.13"
  }
 },
 "nbformat": 4,
 "nbformat_minor": 5
}
