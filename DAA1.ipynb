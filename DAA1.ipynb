{
 "cells": [
  {
   "cell_type": "code",
   "execution_count": 6,
   "id": "695befac",
   "metadata": {},
   "outputs": [
    {
     "name": "stdout",
     "output_type": "stream",
     "text": [
      "Fibonacci(10) = 55\n",
      "Total Steps (Iterative): 9\n"
     ]
    }
   ],
   "source": [
    "def fibonacci_iterative_with_steps(n):\n",
    "    if n <= 1:\n",
    "        return n\n",
    "\n",
    "    a, b, c = 0, 1, 0\n",
    "    steps = 0\n",
    "\n",
    "    for i in range(2, n + 1):\n",
    "        c = a + b\n",
    "        a, b = b, c\n",
    "        steps += 1\n",
    "\n",
    "    return c, steps\n",
    "\n",
    "# Specify the Fibonacci number you want to calculate\n",
    "n = 10\n",
    "\n",
    "# Calculate the Fibonacci number and count the steps\n",
    "result, step_count = fibonacci_iterative_with_steps(n)\n",
    "\n",
    "print(f\"Fibonacci({n}) = {result}\")\n",
    "print(f\"Total Steps (Iterative): {step_count}\")\n"
   ]
  },
  {
   "cell_type": "code",
   "execution_count": 7,
   "id": "f96671d6",
   "metadata": {},
   "outputs": [
    {
     "name": "stdout",
     "output_type": "stream",
     "text": [
      "Fibonacci(10) = 55\n",
      "Total Steps (Recursive): 88\n"
     ]
    }
   ],
   "source": [
    "def fibonacci_recursive(n):\n",
    "    # Base case\n",
    "    if n <= 1:\n",
    "        return n\n",
    "\n",
    "    # Recursive call\n",
    "    global recursion_steps\n",
    "    recursion_steps += 1\n",
    "    return fibonacci_recursive(n - 1) + fibonacci_recursive(n - 2)\n",
    "\n",
    "# Initialize the step count\n",
    "recursion_steps = 0\n",
    "\n",
    "# Specify the Fibonacci number you want to calculate\n",
    "n = 10\n",
    "\n",
    "# Calculate the Fibonacci number\n",
    "result = fibonacci_recursive(n)\n",
    "\n",
    "print(f\"Fibonacci({n}) = {result}\")\n",
    "print(f\"Total Steps (Recursive): {recursion_steps}\")\n"
   ]
  },
  {
   "cell_type": "code",
   "execution_count": 8,
   "id": "5cfd591a",
   "metadata": {},
   "outputs": [
    {
     "name": "stdout",
     "output_type": "stream",
     "text": [
      "0\n",
      "1\n",
      "1\n",
      "2\n",
      "3\n",
      "5\n",
      "8\n",
      "13\n",
      "21\n",
      "34\n"
     ]
    }
   ],
   "source": [
    "if __name__==\"__main__\":\n",
    "    n=10\n",
    "    for i in range(n):\n",
    "        print(fibonacci_recursive(i))\n",
    "    \n",
    " "
   ]
  },
  {
   "cell_type": "code",
   "execution_count": null,
   "id": "f9927867",
   "metadata": {},
   "outputs": [],
   "source": []
  }
 ],
 "metadata": {
  "kernelspec": {
   "display_name": "Python 3 (ipykernel)",
   "language": "python",
   "name": "python3"
  },
  "language_info": {
   "codemirror_mode": {
    "name": "ipython",
    "version": 3
   },
   "file_extension": ".py",
   "mimetype": "text/x-python",
   "name": "python",
   "nbconvert_exporter": "python",
   "pygments_lexer": "ipython3",
   "version": "3.9.13"
  }
 },
 "nbformat": 4,
 "nbformat_minor": 5
}
